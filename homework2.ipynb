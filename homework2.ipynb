{
 "cells": [
  {
   "cell_type": "code",
   "execution_count": 81,
   "id": "74932006",
   "metadata": {},
   "outputs": [],
   "source": [
    "import requests\n",
    "from pprint import pprint\n",
    "from lxml import html"
   ]
  },
  {
   "cell_type": "code",
   "execution_count": 82,
   "id": "88bd7d94",
   "metadata": {},
   "outputs": [
    {
     "name": "stdout",
     "output_type": "stream",
     "text": [
      "<Response [200]>\n"
     ]
    }
   ],
   "source": [
    "url = 'https://lenta.ru/parts/news/'\n",
    "repos = requests.get(url)\n",
    "pprint(repos)"
   ]
  },
  {
   "cell_type": "code",
   "execution_count": 83,
   "id": "cbd33401",
   "metadata": {},
   "outputs": [],
   "source": [
    "dom = html.fromstring(repos.text)"
   ]
  },
  {
   "cell_type": "code",
   "execution_count": 94,
   "id": "d6e425d9",
   "metadata": {},
   "outputs": [],
   "source": [
    "news = dom.xpath(\"//ul[@class='parts-page__body _parts-news']/li[@class='parts-page__item']/a\")"
   ]
  },
  {
   "cell_type": "code",
   "execution_count": 95,
   "id": "864189f3",
   "metadata": {},
   "outputs": [
    {
     "data": {
      "text/plain": [
       "{'Путин спрогнозировал уровень инфляции по итогам года': {'link': 'https://lenta.ru//news/2022/12/22/prognoss/',\n",
       "  'time': '19:25',\n",
       "  'part': ['Экономика']},\n",
       " 'Врач назвал диету и спорт неэффективными способами борьбы с ожирением': {'link': 'https://lenta.ru//news/2022/12/22/obesity/',\n",
       "  'time': '19:21',\n",
       "  'part': ['Забота о себе']},\n",
       " 'Путин пообещал «пощелкать» американских «Патриотов» на Украине': {'link': 'https://lenta.ru//news/2022/12/22/patttt/',\n",
       "  'time': '19:17',\n",
       "  'part': ['Россия']},\n",
       " 'Перечислены лучшие гаджеты 2022 года': {'link': 'https://lenta.ru//news/2022/12/22/best_gadgets/',\n",
       "  'time': '19:14',\n",
       "  'part': ['Наука и техника']},\n",
       " 'Путин рассказал о ежедневных встречах с российскими военными': {'link': 'https://lenta.ru//news/2022/12/22/putvoen/',\n",
       "  'time': '19:12',\n",
       "  'part': ['Россия']},\n",
       " 'Путин назвал странным отказ Киева от переговоров с Москвой': {'link': 'https://lenta.ru//news/2022/12/22/otkaz/',\n",
       "  'time': '19:10',\n",
       "  'part': ['Россия']},\n",
       " 'Известная актриса призналась в необычной для своей профессии фобии': {'link': 'https://lenta.ru/https://moslenta.ru/news/lyudi/aktrisa-22-12-2022.htm',\n",
       "  'time': '19:09',\n",
       "  'part': []},\n",
       " 'Опытная стюардесса назвала национальность самых худших пассажиров самолетов': {'link': 'https://lenta.ru//news/2022/12/22/stewardess/',\n",
       "  'time': '19:09',\n",
       "  'part': ['Путешествия']},\n",
       " 'Путин назвал системы Patriot устаревшими в сравнении с С-300': {'link': 'https://lenta.ru//news/2022/12/22/patrioty/',\n",
       "  'time': '19:07',\n",
       "  'part': ['Россия']},\n",
       " 'Путин заявил о предпочтительности скорого завершения СВО': {'link': 'https://lenta.ru//news/2022/12/22/skorrr/',\n",
       "  'time': '19:06',\n",
       "  'part': ['Россия']},\n",
       " 'Путин рассказал о фиаско России после распада СССР': {'link': 'https://lenta.ru//news/2022/12/22/fiasco/',\n",
       "  'time': '19:06',\n",
       "  'part': ['Россия']},\n",
       " 'Участниками проектов платформы «Россия — страна возможностей» стали миллионы': {'link': 'https://lenta.ru//news/2022/12/22/mlnr/',\n",
       "  'time': '19:05',\n",
       "  'part': ['Россия']},\n",
       " 'Путин ответил на вопрос о скупости своих высказываний о СВО': {'link': 'https://lenta.ru//news/2022/12/22/briefs/',\n",
       "  'time': '19:04',\n",
       "  'part': ['Россия']},\n",
       " 'России предсказали падение экспорта нефти': {'link': 'https://lenta.ru//news/2022/12/22/oilbalticsea/',\n",
       "  'time': '19:03',\n",
       "  'part': ['Экономика']},\n",
       " 'Названы самые высокооплачиваемые спортсменки мира': {'link': 'https://lenta.ru//news/2022/12/22/osaka/',\n",
       "  'time': '19:02',\n",
       "  'part': ['Спорт']},\n",
       " 'Путин предостерег от пренебрежения волей народа': {'link': 'https://lenta.ru//news/2022/12/22/volya/',\n",
       "  'time': '19:00',\n",
       "  'part': ['Россия']},\n",
       " 'Россиянка попыталась разнять подравшихся мужчин и получила огнестрельное ранение': {'link': 'https://lenta.ru//news/2022/12/22/noga/',\n",
       "  'time': '19:00',\n",
       "  'part': ['Силовые структуры']},\n",
       " 'Путин рассказал о связи США с украинским сепаратизмом': {'link': 'https://lenta.ru//news/2022/12/22/putin_sep/',\n",
       "  'time': '18:59',\n",
       "  'part': ['Бывший СССР']},\n",
       " 'В квартире многодетной матери из российского города рухнул потолок': {'link': 'https://lenta.ru//news/2022/12/22/upal/',\n",
       "  'time': '18:59',\n",
       "  'part': ['Среда обитания']},\n",
       " 'Путин порассуждал о Минских соглашениях': {'link': 'https://lenta.ru//news/2022/12/22/vodili/',\n",
       "  'time': '18:59',\n",
       "  'part': ['Россия']}}"
      ]
     },
     "execution_count": 95,
     "metadata": {},
     "output_type": "execute_result"
    }
   ],
   "source": [
    "news_list = {}\n",
    "for new in news:\n",
    "    new_name = new.xpath(\"./h3/text()\")[0]\n",
    "    new_link = 'https://lenta.ru/' + new.xpath(\"./@href\")[0]\n",
    "    new_time = new.xpath(\"./div/time/text()\")[0]\n",
    "    if len(new.xpath(\"./div/span/text()\")) > 0:\n",
    "        new_part = new.xpath(\"./div/span/text()\")[0]\n",
    "    else:\n",
    "        new_part = ''       \n",
    "        \n",
    "    new_part = new.xpath(\"./div/span/text()\") \n",
    "    \n",
    "    news_list[new_name] = {'link' : new_link, \n",
    "                          'time' : new_time, \n",
    "                          'part' : new_part}\n",
    "news_list    "
   ]
  },
  {
   "cell_type": "code",
   "execution_count": null,
   "id": "6b8f48a7",
   "metadata": {},
   "outputs": [],
   "source": []
  }
 ],
 "metadata": {
  "kernelspec": {
   "display_name": "Python 3 (ipykernel)",
   "language": "python",
   "name": "python3"
  },
  "language_info": {
   "codemirror_mode": {
    "name": "ipython",
    "version": 3
   },
   "file_extension": ".py",
   "mimetype": "text/x-python",
   "name": "python",
   "nbconvert_exporter": "python",
   "pygments_lexer": "ipython3",
   "version": "3.9.13"
  }
 },
 "nbformat": 4,
 "nbformat_minor": 5
}
